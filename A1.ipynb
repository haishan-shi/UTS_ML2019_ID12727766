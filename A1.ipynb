{
  "nbformat": 4,
  "nbformat_minor": 0,
  "metadata": {
    "colab": {
      "name": "A1.ipynb",
      "version": "0.3.2",
      "provenance": [],
      "include_colab_link": true
    },
    "kernelspec": {
      "name": "python3",
      "display_name": "Python 3"
    }
  },
  "cells": [
    {
      "cell_type": "markdown",
      "metadata": {
        "id": "view-in-github",
        "colab_type": "text"
      },
      "source": [
        "<a href=\"https://colab.research.google.com/github/haishan-shi/UTS_ML2019_ID12727766/blob/master/A1.ipynb\" target=\"_parent\"><img src=\"https://colab.research.google.com/assets/colab-badge.svg\" alt=\"Open In Colab\"/></a>"
      ]
    },
    {
      "cell_type": "code",
      "metadata": {
        "id": "1UwJBrg5bcUQ",
        "colab_type": "code",
        "colab": {
          "base_uri": "https://localhost:8080/",
          "height": 34
        },
        "outputId": "455ccab9-c2c6-49e3-b905-240d0c277058"
      },
      "source": [
        "import numpy as np\n",
        "A = np.random.rand(5, 10)\n",
        "B = np.random.rand(10, 3)\n",
        "C = np.zeros((5, 3))\n",
        "\n",
        "mul_operation_counter = 0\n",
        "for row in (0, 1, 2, 3, 4):\n",
        "  for column in (0, 1, 2):\n",
        "    s = 0\n",
        "    for k in (0, 1, 2, 3, 4, 5, 6, 7, 8, 9):\n",
        "      s = s + A[row, k] * B[k, column]\n",
        "      mul_operation_counter += 1\n",
        "      \n",
        "    C[row, column] = s\n",
        "print(\"Mul Ops:\", mul_operation_counter)"
      ],
      "execution_count": 1,
      "outputs": [
        {
          "output_type": "stream",
          "text": [
            "Mul Ops: 150\n"
          ],
          "name": "stdout"
        }
      ]
    },
    {
      "cell_type": "code",
      "metadata": {
        "id": "sAfTRO46cTki",
        "colab_type": "code",
        "colab": {}
      },
      "source": [
        "import torch\n",
        "\n",
        "N = 3000\n",
        "M = 2000\n",
        "K = 1000\n",
        "a = torch.rand(N, K)\n",
        "b = torch.rand(K, M)"
      ],
      "execution_count": 0,
      "outputs": []
    },
    {
      "cell_type": "code",
      "metadata": {
        "id": "lgImd8wOcZy_",
        "colab_type": "code",
        "colab": {
          "base_uri": "https://localhost:8080/",
          "height": 34
        },
        "outputId": "233beb12-7a69-47dd-ab19-59c205809a3e"
      },
      "source": [
        "%timeit c = torch.matmul(a, b)"
      ],
      "execution_count": 3,
      "outputs": [
        {
          "output_type": "stream",
          "text": [
            "1 loop, best of 3: 186 ms per loop\n"
          ],
          "name": "stdout"
        }
      ]
    },
    {
      "cell_type": "code",
      "metadata": {
        "id": "uzM4Ohm9cjDf",
        "colab_type": "code",
        "colab": {}
      },
      "source": [
        "device = torch.device(\"cuda\") if torch.cuda.is_available() \\\n",
        "  else torch.device(\"cpu\")\n",
        "a1 = a.to(device)\n",
        "b1 = b.to(device)"
      ],
      "execution_count": 0,
      "outputs": []
    },
    {
      "cell_type": "code",
      "metadata": {
        "id": "zTnVbgOUcmJR",
        "colab_type": "code",
        "colab": {
          "base_uri": "https://localhost:8080/",
          "height": 34
        },
        "outputId": "104ded2b-be12-4aeb-e5ac-e756d3f933bf"
      },
      "source": [
        "%timeit c1 = torch.matmul(a1, b1)"
      ],
      "execution_count": 6,
      "outputs": [
        {
          "output_type": "stream",
          "text": [
            "10 loops, best of 3: 184 ms per loop\n"
          ],
          "name": "stdout"
        }
      ]
    }
  ]
}